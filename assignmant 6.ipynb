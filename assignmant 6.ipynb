{
 "cells": [
  {
   "cell_type": "code",
   "execution_count": null,
   "metadata": {},
   "outputs": [],
   "source": [
    "Object-oriented programming (OOP) refers to a type of computer programming (software design) in which programmers define the data type of a data structure, and also the types of operations (functions) that can be applied to the data structure"
   ]
  },
  {
   "cell_type": "code",
   "execution_count": null,
   "metadata": {},
   "outputs": [],
   "source": [
    "Here's a detailed look at some of OOP's top benefits:\n",
    "Modularity for easier troubleshooting. Something has gone wrong, and you have no idea where to look.\n",
    "Reuse of code through inheritance.\n",
    "Flexibility through polymorphism.\n",
    "Effective problem solving."
   ]
  },
  {
   "cell_type": "code",
   "execution_count": null,
   "metadata": {},
   "outputs": [],
   "source": [
    "Python Method\n",
    "\n",
    "Method is called by its name, but it is associated to an object (dependent).\n",
    "A method is implicitly passed the object on which it is invoked.\n",
    "It may or may not return any data.\n",
    "A method can operate on the data (instance variables) that is contained by the corresponding class\n",
    " \n",
    "Functions\n",
    "\n",
    "Function is block of code that is also called by its name. (independent)\n",
    "The function can have different parameters or may not have any at all. If any data (parameters) are passed, they are passed explicitly.\n",
    "It may or may not return any data.\n",
    "Function does not deal with Class and its instance concept."
   ]
  },
  {
   "cell_type": "code",
   "execution_count": null,
   "metadata": {},
   "outputs": [],
   "source": [
    "*Class\n",
    "A class is a code template for creating objects. Objects have member variables and have behaviour associated with them.\n",
    "*Object\n",
    "Object is simply a collection of data (variables) and methods (functions) that act on those data. \n",
    "*Attribute\n",
    "An instance attribute is a Python variable belonging to one, and only one, object.\n",
    "*Behaviour\n",
    "behave is behaviour-driven development, Python style. Behavior-driven development (or BDD) is an agile software development technique that encourages collaboration between developers, QA and non-technical or business participants in a software project."
   ]
  },
  {
   "cell_type": "code",
   "execution_count": 11,
   "metadata": {},
   "outputs": [
    {
     "name": "stdout",
     "output_type": "stream",
     "text": [
      "<class '__main__.Car'>\n"
     ]
    }
   ],
   "source": [
    "class Car():\n",
    "    def init(self,name):\n",
    "        self.name = name\n",
    "    def init(self,color):\n",
    "        self.color = color\n",
    "    def init(self,model):\n",
    "        self.model = model\n",
    "    def init(self,manual):\n",
    "        self.manual = manual\n",
    "    def init(self,automatic):\n",
    "        self.automatic = automatic\n",
    "   \n",
    "    def showname(self):\n",
    "        print(name)\n",
    "    def showcolor(self):\n",
    "        print(color)\n",
    "    def showmodel(self):\n",
    "        print(model)\n",
    "\n",
    "car_1 = Car()\n",
    "car_2 = Car()\n",
    "car_3 = Car()\n",
    "car_4 = Car()\n",
    "car_5 = Car()\n",
    "   \n",
    "print(type(car_1))   \n",
    "\n",
    " "
   ]
  }
 ],
 "metadata": {
  "kernelspec": {
   "display_name": "Python 3",
   "language": "python",
   "name": "python3"
  },
  "language_info": {
   "codemirror_mode": {
    "name": "ipython",
    "version": 3
   },
   "file_extension": ".py",
   "mimetype": "text/x-python",
   "name": "python",
   "nbconvert_exporter": "python",
   "pygments_lexer": "ipython3",
   "version": "3.7.4"
  }
 },
 "nbformat": 4,
 "nbformat_minor": 2
}
