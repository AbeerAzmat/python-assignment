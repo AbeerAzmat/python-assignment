{
 "cells": [
  {
   "cell_type": "code",
   "execution_count": null,
   "metadata": {},
   "outputs": [],
   "source": [
    "Math = int(input(\"Enter marks of maths:\"))\n",
    "English = int(input(\"Enter marks of english:\"))\n",
    "Science = int(input(\"Enter marks of science:\"))\n",
    "Computer = int(input(\"Enter marks of computer:\"))\n",
    "Urdu =  int(input(\"Enter marks of urdu:\"))\n",
    "Total=Math+English+Science+Computer+Urdu\n",
    "avg=(Total/5)\n",
    "if(avg>=90):\n",
    "   print(\"Grade:A+\")\n",
    "elif(avg>=80&avg<90):\n",
    "   print(\"Grade:A\")\n",
    "elif(avg>=70&avg<80):\n",
    " print(\"Grade:B\")\n",
    "elif(avg>=60&avg<70):\n",
    " print(\"Grade:C\")\n",
    "elif(avg>=50&avg<60):\n",
    " print(\"Grade:D\")\n",
    "else:\n",
    " print(\"Grade:Fail\")"
   ]
  },
  {
   "cell_type": "code",
   "execution_count": null,
   "metadata": {},
   "outputs": [],
   "source": [
    "number= int(input(\"Enter any number\"))\n",
    "mod = number/2\n",
    "if mod > 0:    \n",
    " print (\"This is an odd number\")\n",
    "else: \n",
    " print( \"This is aan even number\")"
   ]
  },
  {
   "cell_type": "code",
   "execution_count": null,
   "metadata": {},
   "outputs": [],
   "source": [
    "list_len=[1,3,5,7,9]\n",
    "print(\"length of list is:\",len(list_len))"
   ]
  },
  {
   "cell_type": "code",
   "execution_count": null,
   "metadata": {},
   "outputs": [],
   "source": [
    "lst = []\n",
    "num = int(input('How many numbers: '))\n",
    "for n in range(num):\n",
    "    numbers = int(input('Enter number '))\n",
    "    lst.append(numbers)\n",
    "print(\"Sum of elements in given list is :\", sum(lst))"
   ]
  },
  {
   "cell_type": "code",
   "execution_count": null,
   "metadata": {},
   "outputs": [],
   "source": [
    "# Python program to find largest \n",
    "# number in a list \n",
    "  \n",
    "# creating empty list \n",
    "list1 = [] \n",
    "  \n",
    "# asking number of elements to put in list \n",
    "num = int(input(\"Enter number of elements in list: \")) \n",
    "  \n",
    "# iterating till num to append elements in list \n",
    "for i in range(1, num + 1): \n",
    "    ele = int(input(\"Enter elements: \")) \n",
    "    list1.append(ele) \n",
    "      \n",
    "# print maximum element \n",
    "print(\"Largest element is:\", max(list1))"
   ]
  },
  {
   "cell_type": "code",
   "execution_count": null,
   "metadata": {},
   "outputs": [],
   "source": [
    "a = [1, 1, 2, 3, 5, 8, 13, 21, 34, 55, 89]\n",
    "\n",
    "new_list = []\n",
    "\n",
    "for item in a:\n",
    "  \n",
    "  if item < 5:\n",
    "    \n",
    "new_list.append(item)\n",
    "print(new_list)"
   ]
  }
 ],
 "metadata": {
  "kernelspec": {
   "display_name": "Python 3",
   "language": "python",
   "name": "python3"
  },
  "language_info": {
   "codemirror_mode": {
    "name": "ipython",
    "version": 3
   },
   "file_extension": ".py",
   "mimetype": "text/x-python",
   "name": "python",
   "nbconvert_exporter": "python",
   "pygments_lexer": "ipython3",
   "version": "3.7.4"
  }
 },
 "nbformat": 4,
 "nbformat_minor": 2
}
